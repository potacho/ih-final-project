{
 "cells": [
  {
   "cell_type": "markdown",
   "metadata": {},
   "source": [
    "![Ironhack logo](https://i.imgur.com/1QgrNNw.png)\n",
    "\n",
    "# Data Preparation\n",
    "\n",
    "Includes:\n",
    "\n",
    "- Data ingestion (source: http://casas.wsu.edu/datasets/).\n",
    "\n",
    "- Data description (Paris, 2+pet, Daily life, 2010)\n",
    "\n",
    "- Data wrangling and cleaning (Phase 1: general purpose)\n"
   ]
  },
  {
   "cell_type": "code",
   "execution_count": 1,
   "metadata": {},
   "outputs": [],
   "source": [
    "#Importing libraries.\n",
    "import pandas as pd\n",
    "import numpy as np\n",
    "import re"
   ]
  },
  {
   "cell_type": "code",
   "execution_count": 2,
   "metadata": {},
   "outputs": [],
   "source": [
    "#Importing dataset.\n",
    "df_raw = pd.read_csv('./input/data.csv', sep=' ',index_col=False,header=None,\n",
    "                      names=['Date','Time','Sensor','Measurement'])"
   ]
  },
  {
   "cell_type": "code",
   "execution_count": 3,
   "metadata": {},
   "outputs": [
    {
     "data": {
      "text/html": [
       "<div>\n",
       "<style scoped>\n",
       "    .dataframe tbody tr th:only-of-type {\n",
       "        vertical-align: middle;\n",
       "    }\n",
       "\n",
       "    .dataframe tbody tr th {\n",
       "        vertical-align: top;\n",
       "    }\n",
       "\n",
       "    .dataframe thead th {\n",
       "        text-align: right;\n",
       "    }\n",
       "</style>\n",
       "<table border=\"1\" class=\"dataframe\">\n",
       "  <thead>\n",
       "    <tr style=\"text-align: right;\">\n",
       "      <th></th>\n",
       "      <th>Date</th>\n",
       "      <th>Time</th>\n",
       "      <th>Sensor</th>\n",
       "      <th>Measurement</th>\n",
       "    </tr>\n",
       "  </thead>\n",
       "  <tbody>\n",
       "    <tr>\n",
       "      <th>0</th>\n",
       "      <td>2010-03-31</td>\n",
       "      <td>00:04:46.08</td>\n",
       "      <td>T001</td>\n",
       "      <td>15.5</td>\n",
       "    </tr>\n",
       "    <tr>\n",
       "      <th>1</th>\n",
       "      <td>2010-03-31</td>\n",
       "      <td>00:09:48.55</td>\n",
       "      <td>T001</td>\n",
       "      <td>15</td>\n",
       "    </tr>\n",
       "    <tr>\n",
       "      <th>2</th>\n",
       "      <td>2010-03-31</td>\n",
       "      <td>00:09:48.60</td>\n",
       "      <td>T003</td>\n",
       "      <td>14.5</td>\n",
       "    </tr>\n",
       "    <tr>\n",
       "      <th>3</th>\n",
       "      <td>2010-03-31</td>\n",
       "      <td>00:14:51.03</td>\n",
       "      <td>T001</td>\n",
       "      <td>14.5</td>\n",
       "    </tr>\n",
       "    <tr>\n",
       "      <th>4</th>\n",
       "      <td>2010-03-31</td>\n",
       "      <td>00:14:51.08</td>\n",
       "      <td>T003</td>\n",
       "      <td>14</td>\n",
       "    </tr>\n",
       "    <tr>\n",
       "      <th>5</th>\n",
       "      <td>2010-03-31</td>\n",
       "      <td>00:16:57.49</td>\n",
       "      <td>M001</td>\n",
       "      <td>ON</td>\n",
       "    </tr>\n",
       "    <tr>\n",
       "      <th>6</th>\n",
       "      <td>2010-03-31</td>\n",
       "      <td>00:17:00.54</td>\n",
       "      <td>M001</td>\n",
       "      <td>OFF</td>\n",
       "    </tr>\n",
       "    <tr>\n",
       "      <th>7</th>\n",
       "      <td>2010-03-31</td>\n",
       "      <td>00:24:55.93</td>\n",
       "      <td>T003</td>\n",
       "      <td>13.5</td>\n",
       "    </tr>\n",
       "    <tr>\n",
       "      <th>8</th>\n",
       "      <td>2010-03-31</td>\n",
       "      <td>00:40:03.35</td>\n",
       "      <td>T001</td>\n",
       "      <td>14</td>\n",
       "    </tr>\n",
       "    <tr>\n",
       "      <th>9</th>\n",
       "      <td>2010-03-31</td>\n",
       "      <td>00:55:10.77</td>\n",
       "      <td>T003</td>\n",
       "      <td>13</td>\n",
       "    </tr>\n",
       "  </tbody>\n",
       "</table>\n",
       "</div>"
      ],
      "text/plain": [
       "         Date         Time Sensor Measurement\n",
       "0  2010-03-31  00:04:46.08   T001        15.5\n",
       "1  2010-03-31  00:09:48.55   T001          15\n",
       "2  2010-03-31  00:09:48.60   T003        14.5\n",
       "3  2010-03-31  00:14:51.03   T001        14.5\n",
       "4  2010-03-31  00:14:51.08   T003          14\n",
       "5  2010-03-31  00:16:57.49   M001          ON\n",
       "6  2010-03-31  00:17:00.54   M001         OFF\n",
       "7  2010-03-31  00:24:55.93   T003        13.5\n",
       "8  2010-03-31  00:40:03.35   T001          14\n",
       "9  2010-03-31  00:55:10.77   T003          13"
      ]
     },
     "metadata": {},
     "output_type": "display_data"
    },
    {
     "data": {
      "text/html": [
       "<div>\n",
       "<style scoped>\n",
       "    .dataframe tbody tr th:only-of-type {\n",
       "        vertical-align: middle;\n",
       "    }\n",
       "\n",
       "    .dataframe tbody tr th {\n",
       "        vertical-align: top;\n",
       "    }\n",
       "\n",
       "    .dataframe thead th {\n",
       "        text-align: right;\n",
       "    }\n",
       "</style>\n",
       "<table border=\"1\" class=\"dataframe\">\n",
       "  <thead>\n",
       "    <tr style=\"text-align: right;\">\n",
       "      <th></th>\n",
       "      <th>Date</th>\n",
       "      <th>Time</th>\n",
       "      <th>Sensor</th>\n",
       "      <th>Measurement</th>\n",
       "    </tr>\n",
       "  </thead>\n",
       "  <tbody>\n",
       "    <tr>\n",
       "      <th>1269255</th>\n",
       "      <td>2010-09-06</td>\n",
       "      <td>23:59:42.217606</td>\n",
       "      <td>P001</td>\n",
       "      <td>0.11</td>\n",
       "    </tr>\n",
       "    <tr>\n",
       "      <th>1269256</th>\n",
       "      <td>2010-09-06</td>\n",
       "      <td>23:59:43.223888</td>\n",
       "      <td>P001</td>\n",
       "      <td>0.1</td>\n",
       "    </tr>\n",
       "    <tr>\n",
       "      <th>1269257</th>\n",
       "      <td>2010-09-06</td>\n",
       "      <td>23:59:45.234973</td>\n",
       "      <td>P001</td>\n",
       "      <td>0.11</td>\n",
       "    </tr>\n",
       "    <tr>\n",
       "      <th>1269258</th>\n",
       "      <td>2010-09-06</td>\n",
       "      <td>23:59:46.241363</td>\n",
       "      <td>P001</td>\n",
       "      <td>0.1</td>\n",
       "    </tr>\n",
       "    <tr>\n",
       "      <th>1269259</th>\n",
       "      <td>2010-09-06</td>\n",
       "      <td>23:59:49.256612</td>\n",
       "      <td>P001</td>\n",
       "      <td>0.11</td>\n",
       "    </tr>\n",
       "    <tr>\n",
       "      <th>1269260</th>\n",
       "      <td>2010-09-06</td>\n",
       "      <td>23:59:50.263387</td>\n",
       "      <td>P001</td>\n",
       "      <td>0.1</td>\n",
       "    </tr>\n",
       "    <tr>\n",
       "      <th>1269261</th>\n",
       "      <td>2010-09-06</td>\n",
       "      <td>23:59:51.269556</td>\n",
       "      <td>P001</td>\n",
       "      <td>0.11</td>\n",
       "    </tr>\n",
       "    <tr>\n",
       "      <th>1269262</th>\n",
       "      <td>2010-09-06</td>\n",
       "      <td>23:59:52.27554</td>\n",
       "      <td>P001</td>\n",
       "      <td>0.1</td>\n",
       "    </tr>\n",
       "    <tr>\n",
       "      <th>1269263</th>\n",
       "      <td>2010-09-06</td>\n",
       "      <td>23:59:56.305708</td>\n",
       "      <td>P001</td>\n",
       "      <td>0.11</td>\n",
       "    </tr>\n",
       "    <tr>\n",
       "      <th>1269264</th>\n",
       "      <td>2010-09-06</td>\n",
       "      <td>23:59:57.301184</td>\n",
       "      <td>P001</td>\n",
       "      <td>0.1</td>\n",
       "    </tr>\n",
       "  </tbody>\n",
       "</table>\n",
       "</div>"
      ],
      "text/plain": [
       "               Date             Time Sensor Measurement\n",
       "1269255  2010-09-06  23:59:42.217606   P001        0.11\n",
       "1269256  2010-09-06  23:59:43.223888   P001         0.1\n",
       "1269257  2010-09-06  23:59:45.234973   P001        0.11\n",
       "1269258  2010-09-06  23:59:46.241363   P001         0.1\n",
       "1269259  2010-09-06  23:59:49.256612   P001        0.11\n",
       "1269260  2010-09-06  23:59:50.263387   P001         0.1\n",
       "1269261  2010-09-06  23:59:51.269556   P001        0.11\n",
       "1269262  2010-09-06   23:59:52.27554   P001         0.1\n",
       "1269263  2010-09-06  23:59:56.305708   P001        0.11\n",
       "1269264  2010-09-06  23:59:57.301184   P001         0.1"
      ]
     },
     "metadata": {},
     "output_type": "display_data"
    },
    {
     "data": {
      "text/plain": [
       "(1269265, 4)"
      ]
     },
     "metadata": {},
     "output_type": "display_data"
    },
    {
     "data": {
      "text/plain": [
       "Date           object\n",
       "Time           object\n",
       "Sensor         object\n",
       "Measurement    object\n",
       "dtype: object"
      ]
     },
     "metadata": {},
     "output_type": "display_data"
    }
   ],
   "source": [
    "#Visualization.\n",
    "display(df_raw.head(10),df_raw.tail(10),df_raw.shape,df_raw.dtypes)"
   ]
  },
  {
   "cell_type": "code",
   "execution_count": 4,
   "metadata": {},
   "outputs": [],
   "source": [
    "#Hard copy.\n",
    "df_sensors = df_raw.copy()"
   ]
  },
  {
   "cell_type": "code",
   "execution_count": 5,
   "metadata": {},
   "outputs": [],
   "source": [
    "#Time string manipulation function (set datetime to 10 minutes window) 1/2.\n",
    "def time_constrictor1(tiempo_string):\n",
    "    if len(tiempo_string) >= 9:\n",
    "        tiempo_string = re.sub(r'\\d:\\d\\d.\\d+$','',tiempo_string)\n",
    "    elif len(tiempo_string) == 8:\n",
    "        tiempo_string = re.sub(r'\\d:\\d\\d+$','',tiempo_string)    \n",
    "    elif len(tiempo_string) == 2:\n",
    "        tiempo_string = tiempo_string+':0'    \n",
    "    return tiempo_string"
   ]
  },
  {
   "cell_type": "code",
   "execution_count": 6,
   "metadata": {},
   "outputs": [],
   "source": [
    "#Time string manipulation function (set datetime to 10 minutes window) 2/2.\n",
    "def time_constrictor2(tiempo_string):\n",
    "    tiempo_string = tiempo_string+'0'\n",
    "    return tiempo_string"
   ]
  },
  {
   "cell_type": "code",
   "execution_count": 7,
   "metadata": {},
   "outputs": [],
   "source": [
    "#Formula application.\n",
    "df_sensors['Time'] = df_sensors['Time'].apply(time_constrictor1)\n",
    "df_sensors['Time'] = df_sensors['Time'].apply(time_constrictor2)"
   ]
  },
  {
   "cell_type": "code",
   "execution_count": 8,
   "metadata": {},
   "outputs": [],
   "source": [
    "#Merge datetime.\n",
    "df_sensors['DateTime'] = df_sensors['Date'] + ' ' + df_sensors['Time']"
   ]
  },
  {
   "cell_type": "code",
   "execution_count": 9,
   "metadata": {
    "scrolled": true
   },
   "outputs": [],
   "source": [
    "#Changing to datetime format and droping string value columns.\n",
    "df_sensors['DateTime'] = pd.to_datetime(df_sensors['DateTime'])\n",
    "df_sensors = df_sensors.drop(['Date', 'Time'], axis=1)"
   ]
  },
  {
   "cell_type": "code",
   "execution_count": 10,
   "metadata": {},
   "outputs": [],
   "source": [
    "#Sensor lists.\n",
    "s_motion = ['M001','M002','M003','M004','M005','M006','M007','M008','M009','M010','M011','M012','M013',\n",
    "            'M014','M015','M016','M017','M018','M019','M020','M021','M022','M023','M024','M025','M026',\n",
    "            'M027','M028','M029']\n",
    "\n",
    "s_temp = ['T001','T002','T003']\n",
    "\n",
    "s_doors = ['D001','D002','D003']\n",
    "\n",
    "s_medicine = ['I001']\n",
    "\n",
    "s_power = ['P001']"
   ]
  },
  {
   "cell_type": "code",
   "execution_count": 11,
   "metadata": {},
   "outputs": [],
   "source": [
    "#Separation by sensor for specific treatment.\n",
    "def data_sensors(df_input,sensor):\n",
    "    df_stype = df_input[df_input['Sensor'].isin(sensor)]\n",
    "    return df_stype"
   ]
  },
  {
   "cell_type": "markdown",
   "metadata": {},
   "source": [
    "### Movement sensors"
   ]
  },
  {
   "cell_type": "code",
   "execution_count": 12,
   "metadata": {},
   "outputs": [],
   "source": [
    "###Pendiente de refactorizar (aplico fórmula y reseteo index)\n",
    "df_M001 = data_sensors(df_sensors,['M001']).reset_index(drop=True)\n",
    "df_M002 = data_sensors(df_sensors,['M002']).reset_index(drop=True)\n",
    "df_M003 = data_sensors(df_sensors,['M003']).reset_index(drop=True)\n",
    "df_M004 = data_sensors(df_sensors,['M004']).reset_index(drop=True)\n",
    "df_M005 = data_sensors(df_sensors,['M005']).reset_index(drop=True)\n",
    "df_M006 = data_sensors(df_sensors,['M006']).reset_index(drop=True)\n",
    "df_M007 = data_sensors(df_sensors,['M007']).reset_index(drop=True)\n",
    "df_M008 = data_sensors(df_sensors,['M008']).reset_index(drop=True)\n",
    "df_M009 = data_sensors(df_sensors,['M009']).reset_index(drop=True)\n",
    "df_M010 = data_sensors(df_sensors,['M010']).reset_index(drop=True)\n",
    "df_M011 = data_sensors(df_sensors,['M011']).reset_index(drop=True)\n",
    "df_M012 = data_sensors(df_sensors,['M012']).reset_index(drop=True)\n",
    "df_M013 = data_sensors(df_sensors,['M013']).reset_index(drop=True)\n",
    "df_M014 = data_sensors(df_sensors,['M014']).reset_index(drop=True)\n",
    "df_M015 = data_sensors(df_sensors,['M015']).reset_index(drop=True)\n",
    "df_M016 = data_sensors(df_sensors,['M016']).reset_index(drop=True)\n",
    "df_M017 = data_sensors(df_sensors,['M017']).reset_index(drop=True)\n",
    "df_M018 = data_sensors(df_sensors,['M018']).reset_index(drop=True)\n",
    "df_M019 = data_sensors(df_sensors,['M019']).reset_index(drop=True)\n",
    "df_M020 = data_sensors(df_sensors,['M020']).reset_index(drop=True)\n",
    "df_M021 = data_sensors(df_sensors,['M021']).reset_index(drop=True)\n",
    "df_M022 = data_sensors(df_sensors,['M022']).reset_index(drop=True)\n",
    "df_M023 = data_sensors(df_sensors,['M023']).reset_index(drop=True)\n",
    "df_M024 = data_sensors(df_sensors,['M024']).reset_index(drop=True)\n",
    "df_M025 = data_sensors(df_sensors,['M025']).reset_index(drop=True)\n",
    "df_M026 = data_sensors(df_sensors,['M026']).reset_index(drop=True)\n",
    "df_M027 = data_sensors(df_sensors,['M027']).reset_index(drop=True)\n",
    "df_M028 = data_sensors(df_sensors,['M028']).reset_index(drop=True)\n",
    "df_M029 = data_sensors(df_sensors,['M029']).reset_index(drop=True)"
   ]
  },
  {
   "cell_type": "code",
   "execution_count": 13,
   "metadata": {},
   "outputs": [],
   "source": [
    "#Binarization function.\n",
    "def cat_data(value):\n",
    "    if value == 'ON':\n",
    "        value = 1\n",
    "    elif value == 'OFF':\n",
    "        value = 0\n",
    "    return value"
   ]
  },
  {
   "cell_type": "code",
   "execution_count": 14,
   "metadata": {},
   "outputs": [],
   "source": [
    "###Pendiente de refactorizar (aplico fórmula)\n",
    "df_M001['Measurement'] = df_M001['Measurement'].apply(cat_data)\n",
    "df_M002['Measurement'] = df_M002['Measurement'].apply(cat_data)\n",
    "df_M003['Measurement'] = df_M003['Measurement'].apply(cat_data)\n",
    "df_M004['Measurement'] = df_M004['Measurement'].apply(cat_data)\n",
    "df_M005['Measurement'] = df_M005['Measurement'].apply(cat_data)\n",
    "df_M006['Measurement'] = df_M006['Measurement'].apply(cat_data)\n",
    "df_M007['Measurement'] = df_M007['Measurement'].apply(cat_data)\n",
    "df_M008['Measurement'] = df_M008['Measurement'].apply(cat_data)\n",
    "df_M009['Measurement'] = df_M009['Measurement'].apply(cat_data)\n",
    "df_M010['Measurement'] = df_M010['Measurement'].apply(cat_data)\n",
    "df_M011['Measurement'] = df_M011['Measurement'].apply(cat_data)\n",
    "df_M012['Measurement'] = df_M012['Measurement'].apply(cat_data)\n",
    "df_M013['Measurement'] = df_M013['Measurement'].apply(cat_data)\n",
    "df_M014['Measurement'] = df_M014['Measurement'].apply(cat_data)\n",
    "df_M015['Measurement'] = df_M015['Measurement'].apply(cat_data)\n",
    "df_M016['Measurement'] = df_M001['Measurement'].apply(cat_data)\n",
    "df_M017['Measurement'] = df_M001['Measurement'].apply(cat_data)\n",
    "df_M018['Measurement'] = df_M001['Measurement'].apply(cat_data)\n",
    "df_M019['Measurement'] = df_M001['Measurement'].apply(cat_data)\n",
    "df_M020['Measurement'] = df_M001['Measurement'].apply(cat_data)\n",
    "df_M021['Measurement'] = df_M001['Measurement'].apply(cat_data)\n",
    "df_M022['Measurement'] = df_M001['Measurement'].apply(cat_data)\n",
    "df_M023['Measurement'] = df_M001['Measurement'].apply(cat_data)\n",
    "df_M024['Measurement'] = df_M001['Measurement'].apply(cat_data)\n",
    "df_M025['Measurement'] = df_M001['Measurement'].apply(cat_data)\n",
    "df_M026['Measurement'] = df_M001['Measurement'].apply(cat_data)\n",
    "df_M027['Measurement'] = df_M001['Measurement'].apply(cat_data)\n",
    "df_M028['Measurement'] = df_M001['Measurement'].apply(cat_data)\n",
    "df_M029['Measurement'] = df_M001['Measurement'].apply(cat_data)"
   ]
  },
  {
   "cell_type": "code",
   "execution_count": 15,
   "metadata": {},
   "outputs": [],
   "source": [
    "###Pendiente de refactorizar (reduzco dimensión a ventanas de 10 minutos y aplica la media de los valores)\n",
    "df_M001 = df_M001.groupby('DateTime',as_index=False).agg({\"Measurement\":\"mean\"})\n",
    "df_M002 = df_M002.groupby('DateTime',as_index=False).agg({\"Measurement\":\"mean\"})\n",
    "df_M003 = df_M003.groupby('DateTime',as_index=False).agg({\"Measurement\":\"mean\"})\n",
    "df_M004 = df_M004.groupby('DateTime',as_index=False).agg({\"Measurement\":\"mean\"})\n",
    "df_M005 = df_M005.groupby('DateTime',as_index=False).agg({\"Measurement\":\"mean\"})\n",
    "df_M006 = df_M006.groupby('DateTime',as_index=False).agg({\"Measurement\":\"mean\"})\n",
    "df_M007 = df_M007.groupby('DateTime',as_index=False).agg({\"Measurement\":\"mean\"})\n",
    "df_M008 = df_M008.groupby('DateTime',as_index=False).agg({\"Measurement\":\"mean\"})\n",
    "df_M009 = df_M009.groupby('DateTime',as_index=False).agg({\"Measurement\":\"mean\"})\n",
    "df_M010 = df_M010.groupby('DateTime',as_index=False).agg({\"Measurement\":\"mean\"})\n",
    "df_M011 = df_M011.groupby('DateTime',as_index=False).agg({\"Measurement\":\"mean\"})\n",
    "df_M012 = df_M012.groupby('DateTime',as_index=False).agg({\"Measurement\":\"mean\"})\n",
    "df_M013 = df_M013.groupby('DateTime',as_index=False).agg({\"Measurement\":\"mean\"})\n",
    "df_M014 = df_M014.groupby('DateTime',as_index=False).agg({\"Measurement\":\"mean\"})\n",
    "df_M015 = df_M015.groupby('DateTime',as_index=False).agg({\"Measurement\":\"mean\"})\n",
    "df_M016 = df_M016.groupby('DateTime',as_index=False).agg({\"Measurement\":\"mean\"})\n",
    "df_M017 = df_M017.groupby('DateTime',as_index=False).agg({\"Measurement\":\"mean\"})\n",
    "df_M018 = df_M018.groupby('DateTime',as_index=False).agg({\"Measurement\":\"mean\"})\n",
    "df_M019 = df_M019.groupby('DateTime',as_index=False).agg({\"Measurement\":\"mean\"})\n",
    "df_M020 = df_M020.groupby('DateTime',as_index=False).agg({\"Measurement\":\"mean\"})\n",
    "df_M021 = df_M021.groupby('DateTime',as_index=False).agg({\"Measurement\":\"mean\"})\n",
    "df_M022 = df_M022.groupby('DateTime',as_index=False).agg({\"Measurement\":\"mean\"})\n",
    "df_M023 = df_M023.groupby('DateTime',as_index=False).agg({\"Measurement\":\"mean\"})\n",
    "df_M024 = df_M024.groupby('DateTime',as_index=False).agg({\"Measurement\":\"mean\"})\n",
    "df_M025 = df_M025.groupby('DateTime',as_index=False).agg({\"Measurement\":\"mean\"})\n",
    "df_M026 = df_M026.groupby('DateTime',as_index=False).agg({\"Measurement\":\"mean\"})\n",
    "df_M027 = df_M027.groupby('DateTime',as_index=False).agg({\"Measurement\":\"mean\"})\n",
    "df_M028 = df_M028.groupby('DateTime',as_index=False).agg({\"Measurement\":\"mean\"})\n",
    "df_M029 = df_M029.groupby('DateTime',as_index=False).agg({\"Measurement\":\"mean\"})"
   ]
  },
  {
   "cell_type": "code",
   "execution_count": 16,
   "metadata": {},
   "outputs": [],
   "source": [
    "###Pendiente de refactorizar (etiquetado de columnas)\n",
    "df_M001.columns=['DateTime','M001']\n",
    "df_M002.columns=['DateTime','M002']\n",
    "df_M003.columns=['DateTime','M003']\n",
    "df_M004.columns=['DateTime','M004']\n",
    "df_M005.columns=['DateTime','M005']\n",
    "df_M006.columns=['DateTime','M006']\n",
    "df_M007.columns=['DateTime','M007']\n",
    "df_M008.columns=['DateTime','M008']\n",
    "df_M009.columns=['DateTime','M009']\n",
    "df_M010.columns=['DateTime','M010']\n",
    "df_M011.columns=['DateTime','M011']\n",
    "df_M012.columns=['DateTime','M012']\n",
    "df_M013.columns=['DateTime','M013']\n",
    "df_M014.columns=['DateTime','M014']\n",
    "df_M015.columns=['DateTime','M015']\n",
    "df_M016.columns=['DateTime','M016']\n",
    "df_M017.columns=['DateTime','M017']\n",
    "df_M018.columns=['DateTime','M018']\n",
    "df_M019.columns=['DateTime','M019']\n",
    "df_M020.columns=['DateTime','M020']\n",
    "df_M021.columns=['DateTime','M021']\n",
    "df_M022.columns=['DateTime','M022']\n",
    "df_M023.columns=['DateTime','M023']\n",
    "df_M024.columns=['DateTime','M024']\n",
    "df_M025.columns=['DateTime','M025']\n",
    "df_M026.columns=['DateTime','M026']\n",
    "df_M027.columns=['DateTime','M027']\n",
    "df_M028.columns=['DateTime','M028']\n",
    "df_M029.columns=['DateTime','M029']"
   ]
  },
  {
   "cell_type": "markdown",
   "metadata": {},
   "source": [
    "### Temperature and power sensors"
   ]
  },
  {
   "cell_type": "code",
   "execution_count": 17,
   "metadata": {},
   "outputs": [],
   "source": [
    "###Pendiente de refactorizar (aplico fórmula y reseteo index)\n",
    "df_T001 = data_sensors(df_sensors,['T001']).reset_index(drop=True)\n",
    "df_T002 = data_sensors(df_sensors,['T002']).reset_index(drop=True)\n",
    "df_T003 = data_sensors(df_sensors,['T003']).reset_index(drop=True)\n",
    "df_P001 = data_sensors(df_sensors,['P001']).reset_index(drop=True)"
   ]
  },
  {
   "cell_type": "code",
   "execution_count": 18,
   "metadata": {},
   "outputs": [],
   "source": [
    "#To float function\n",
    "def num_data(value):\n",
    "    return float(value)"
   ]
  },
  {
   "cell_type": "code",
   "execution_count": 19,
   "metadata": {},
   "outputs": [],
   "source": [
    "###Pendiente de refactorizar (aplico fórmula)\n",
    "df_T001['Measurement'] = df_T001['Measurement'].apply(num_data)\n",
    "df_T002['Measurement'] = df_T002['Measurement'].apply(num_data)\n",
    "df_T003['Measurement'] = df_T003['Measurement'].apply(num_data)\n",
    "df_P001['Measurement'] = df_P001['Measurement'].apply(num_data)"
   ]
  },
  {
   "cell_type": "code",
   "execution_count": 20,
   "metadata": {},
   "outputs": [],
   "source": [
    "###Pendiente de refactorizar (reduzco dimensión a ventanas de 10 minutos y aplica la media de los valores)\n",
    "df_T001 = df_T001.groupby('DateTime',as_index=False).agg({\"Measurement\":\"mean\"})\n",
    "df_T002 = df_T002.groupby('DateTime',as_index=False).agg({\"Measurement\":\"mean\"})\n",
    "df_T003 = df_T002.groupby('DateTime',as_index=False).agg({\"Measurement\":\"mean\"})\n",
    "df_P001 = df_P001.groupby('DateTime',as_index=False).agg({\"Measurement\":\"sum\"})"
   ]
  },
  {
   "cell_type": "code",
   "execution_count": 21,
   "metadata": {},
   "outputs": [],
   "source": [
    "###Pendiente de refactorizar (etiquetado de columnas)\n",
    "df_T001.columns=['DateTime','T001']\n",
    "df_T002.columns=['DateTime','T002']\n",
    "df_T003.columns=['DateTime','T003']\n",
    "df_P001.columns=['DateTime','P001']"
   ]
  },
  {
   "cell_type": "markdown",
   "metadata": {},
   "source": [
    "### Door sensors"
   ]
  },
  {
   "cell_type": "code",
   "execution_count": 22,
   "metadata": {},
   "outputs": [],
   "source": [
    "###Pendiente de refactorizar (aplico fórmula y reseteo index)\n",
    "df_D001 = data_sensors(df_sensors,['D001']).reset_index(drop=True)\n",
    "df_D002 = data_sensors(df_sensors,['D002']).reset_index(drop=True)\n",
    "df_D003 = data_sensors(df_sensors,['D003']).reset_index(drop=True)"
   ]
  },
  {
   "cell_type": "code",
   "execution_count": 23,
   "metadata": {},
   "outputs": [],
   "source": [
    "#Binarization function.\n",
    "def door_data(value):\n",
    "    if value == 'OPEN':\n",
    "        value = 1\n",
    "    elif value == 'CLOSE':\n",
    "        value = 0\n",
    "    return value"
   ]
  },
  {
   "cell_type": "code",
   "execution_count": 24,
   "metadata": {},
   "outputs": [],
   "source": [
    "###Pendiente de refactorizar (aplico fórmula)\n",
    "df_D001['Measurement'] = df_D001['Measurement'].apply(door_data)\n",
    "df_D002['Measurement'] = df_D002['Measurement'].apply(door_data)\n",
    "df_D003['Measurement'] = df_D003['Measurement'].apply(door_data)"
   ]
  },
  {
   "cell_type": "code",
   "execution_count": 25,
   "metadata": {},
   "outputs": [],
   "source": [
    "###Pendiente de refactorizar (reduzco dimensión a ventanas de 10 minutos y aplica la media de los valores)\n",
    "df_D001 = df_D001.groupby('DateTime',as_index=False).agg({\"Measurement\":\"mean\"})\n",
    "df_D002 = df_D002.groupby('DateTime',as_index=False).agg({\"Measurement\":\"mean\"})\n",
    "df_D003 = df_D003.groupby('DateTime',as_index=False).agg({\"Measurement\":\"mean\"})"
   ]
  },
  {
   "cell_type": "code",
   "execution_count": 26,
   "metadata": {},
   "outputs": [],
   "source": [
    "###Pendiente de refactorizar (etiquetado de columnas)\n",
    "df_D001.columns=['DateTime','D001']\n",
    "df_D002.columns=['DateTime','D002']\n",
    "df_D003.columns=['DateTime','D003']"
   ]
  },
  {
   "cell_type": "markdown",
   "metadata": {},
   "source": [
    "### Data visual analysis"
   ]
  },
  {
   "cell_type": "code",
   "execution_count": 27,
   "metadata": {},
   "outputs": [
    {
     "data": {
      "text/html": [
       "<div>\n",
       "<style scoped>\n",
       "    .dataframe tbody tr th:only-of-type {\n",
       "        vertical-align: middle;\n",
       "    }\n",
       "\n",
       "    .dataframe tbody tr th {\n",
       "        vertical-align: top;\n",
       "    }\n",
       "\n",
       "    .dataframe thead th {\n",
       "        text-align: right;\n",
       "    }\n",
       "</style>\n",
       "<table border=\"1\" class=\"dataframe\">\n",
       "  <thead>\n",
       "    <tr style=\"text-align: right;\">\n",
       "      <th></th>\n",
       "      <th>DateTime</th>\n",
       "      <th>T001</th>\n",
       "    </tr>\n",
       "  </thead>\n",
       "  <tbody>\n",
       "    <tr>\n",
       "      <th>0</th>\n",
       "      <td>2010-03-31 00:00:00</td>\n",
       "      <td>15.25</td>\n",
       "    </tr>\n",
       "    <tr>\n",
       "      <th>1</th>\n",
       "      <td>2010-03-31 00:10:00</td>\n",
       "      <td>14.50</td>\n",
       "    </tr>\n",
       "    <tr>\n",
       "      <th>2</th>\n",
       "      <td>2010-03-31 00:40:00</td>\n",
       "      <td>14.00</td>\n",
       "    </tr>\n",
       "    <tr>\n",
       "      <th>3</th>\n",
       "      <td>2010-03-31 01:30:00</td>\n",
       "      <td>13.50</td>\n",
       "    </tr>\n",
       "    <tr>\n",
       "      <th>4</th>\n",
       "      <td>2010-03-31 01:40:00</td>\n",
       "      <td>15.00</td>\n",
       "    </tr>\n",
       "  </tbody>\n",
       "</table>\n",
       "</div>"
      ],
      "text/plain": [
       "             DateTime   T001\n",
       "0 2010-03-31 00:00:00  15.25\n",
       "1 2010-03-31 00:10:00  14.50\n",
       "2 2010-03-31 00:40:00  14.00\n",
       "3 2010-03-31 01:30:00  13.50\n",
       "4 2010-03-31 01:40:00  15.00"
      ]
     },
     "execution_count": 27,
     "metadata": {},
     "output_type": "execute_result"
    }
   ],
   "source": [
    "df_T001.head()"
   ]
  },
  {
   "cell_type": "code",
   "execution_count": 28,
   "metadata": {
    "scrolled": true
   },
   "outputs": [
    {
     "data": {
      "text/html": [
       "<div>\n",
       "<style scoped>\n",
       "    .dataframe tbody tr th:only-of-type {\n",
       "        vertical-align: middle;\n",
       "    }\n",
       "\n",
       "    .dataframe tbody tr th {\n",
       "        vertical-align: top;\n",
       "    }\n",
       "\n",
       "    .dataframe thead th {\n",
       "        text-align: right;\n",
       "    }\n",
       "</style>\n",
       "<table border=\"1\" class=\"dataframe\">\n",
       "  <thead>\n",
       "    <tr style=\"text-align: right;\">\n",
       "      <th></th>\n",
       "      <th>DateTime</th>\n",
       "      <th>P001</th>\n",
       "    </tr>\n",
       "  </thead>\n",
       "  <tbody>\n",
       "    <tr>\n",
       "      <th>8023</th>\n",
       "      <td>2010-09-06 23:10:00</td>\n",
       "      <td>4.62</td>\n",
       "    </tr>\n",
       "    <tr>\n",
       "      <th>8024</th>\n",
       "      <td>2010-09-06 23:20:00</td>\n",
       "      <td>6.30</td>\n",
       "    </tr>\n",
       "    <tr>\n",
       "      <th>8025</th>\n",
       "      <td>2010-09-06 23:30:00</td>\n",
       "      <td>10.08</td>\n",
       "    </tr>\n",
       "    <tr>\n",
       "      <th>8026</th>\n",
       "      <td>2010-09-06 23:40:00</td>\n",
       "      <td>28.56</td>\n",
       "    </tr>\n",
       "    <tr>\n",
       "      <th>8027</th>\n",
       "      <td>2010-09-06 23:50:00</td>\n",
       "      <td>28.56</td>\n",
       "    </tr>\n",
       "  </tbody>\n",
       "</table>\n",
       "</div>"
      ],
      "text/plain": [
       "                DateTime   P001\n",
       "8023 2010-09-06 23:10:00   4.62\n",
       "8024 2010-09-06 23:20:00   6.30\n",
       "8025 2010-09-06 23:30:00  10.08\n",
       "8026 2010-09-06 23:40:00  28.56\n",
       "8027 2010-09-06 23:50:00  28.56"
      ]
     },
     "execution_count": 28,
     "metadata": {},
     "output_type": "execute_result"
    }
   ],
   "source": [
    "df_P001.tail()"
   ]
  },
  {
   "cell_type": "code",
   "execution_count": 29,
   "metadata": {},
   "outputs": [
    {
     "data": {
      "text/plain": [
       "(8028, 2)"
      ]
     },
     "execution_count": 29,
     "metadata": {},
     "output_type": "execute_result"
    }
   ],
   "source": [
    "df_P001.shape"
   ]
  },
  {
   "cell_type": "code",
   "execution_count": 30,
   "metadata": {},
   "outputs": [
    {
     "data": {
      "text/plain": [
       "Timestamp('2010-05-11 12:10:00')"
      ]
     },
     "execution_count": 30,
     "metadata": {},
     "output_type": "execute_result"
    }
   ],
   "source": [
    "df_P001.DateTime.min()"
   ]
  },
  {
   "cell_type": "code",
   "execution_count": 31,
   "metadata": {},
   "outputs": [
    {
     "data": {
      "text/plain": [
       "Timestamp('2010-09-06 23:50:00')"
      ]
     },
     "execution_count": 31,
     "metadata": {},
     "output_type": "execute_result"
    }
   ],
   "source": [
    "df_P001.DateTime.max()"
   ]
  },
  {
   "cell_type": "code",
   "execution_count": 32,
   "metadata": {},
   "outputs": [
    {
     "data": {
      "text/plain": [
       "Timedelta('118 days 11:40:00')"
      ]
     },
     "execution_count": 32,
     "metadata": {},
     "output_type": "execute_result"
    }
   ],
   "source": [
    "df_P001.DateTime.max()-df_P001.DateTime.min()"
   ]
  },
  {
   "cell_type": "code",
   "execution_count": 33,
   "metadata": {},
   "outputs": [
    {
     "data": {
      "text/plain": [
       "Timedelta('159 days 23:10:00')"
      ]
     },
     "execution_count": 33,
     "metadata": {},
     "output_type": "execute_result"
    }
   ],
   "source": [
    "df_T001.DateTime.max()-df_T001.DateTime.min()"
   ]
  },
  {
   "cell_type": "markdown",
   "metadata": {},
   "source": [
    "### Dataframe"
   ]
  },
  {
   "cell_type": "code",
   "execution_count": 34,
   "metadata": {},
   "outputs": [
    {
     "data": {
      "text/html": [
       "<div>\n",
       "<style scoped>\n",
       "    .dataframe tbody tr th:only-of-type {\n",
       "        vertical-align: middle;\n",
       "    }\n",
       "\n",
       "    .dataframe tbody tr th {\n",
       "        vertical-align: top;\n",
       "    }\n",
       "\n",
       "    .dataframe thead th {\n",
       "        text-align: right;\n",
       "    }\n",
       "</style>\n",
       "<table border=\"1\" class=\"dataframe\">\n",
       "  <thead>\n",
       "    <tr style=\"text-align: right;\">\n",
       "      <th></th>\n",
       "      <th>DateTime</th>\n",
       "      <th>DayWeek</th>\n",
       "    </tr>\n",
       "  </thead>\n",
       "  <tbody>\n",
       "    <tr>\n",
       "      <th>0</th>\n",
       "      <td>2010-03-31 00:00:00</td>\n",
       "      <td>2</td>\n",
       "    </tr>\n",
       "    <tr>\n",
       "      <th>1</th>\n",
       "      <td>2010-03-31 00:10:00</td>\n",
       "      <td>2</td>\n",
       "    </tr>\n",
       "    <tr>\n",
       "      <th>2</th>\n",
       "      <td>2010-03-31 00:20:00</td>\n",
       "      <td>2</td>\n",
       "    </tr>\n",
       "    <tr>\n",
       "      <th>3</th>\n",
       "      <td>2010-03-31 00:30:00</td>\n",
       "      <td>2</td>\n",
       "    </tr>\n",
       "    <tr>\n",
       "      <th>4</th>\n",
       "      <td>2010-03-31 00:40:00</td>\n",
       "      <td>2</td>\n",
       "    </tr>\n",
       "  </tbody>\n",
       "</table>\n",
       "</div>"
      ],
      "text/plain": [
       "             DateTime  DayWeek\n",
       "0 2010-03-31 00:00:00        2\n",
       "1 2010-03-31 00:10:00        2\n",
       "2 2010-03-31 00:20:00        2\n",
       "3 2010-03-31 00:30:00        2\n",
       "4 2010-03-31 00:40:00        2"
      ]
     },
     "metadata": {},
     "output_type": "display_data"
    },
    {
     "data": {
      "text/html": [
       "<div>\n",
       "<style scoped>\n",
       "    .dataframe tbody tr th:only-of-type {\n",
       "        vertical-align: middle;\n",
       "    }\n",
       "\n",
       "    .dataframe tbody tr th {\n",
       "        vertical-align: top;\n",
       "    }\n",
       "\n",
       "    .dataframe thead th {\n",
       "        text-align: right;\n",
       "    }\n",
       "</style>\n",
       "<table border=\"1\" class=\"dataframe\">\n",
       "  <thead>\n",
       "    <tr style=\"text-align: right;\">\n",
       "      <th></th>\n",
       "      <th>DateTime</th>\n",
       "      <th>DayWeek</th>\n",
       "    </tr>\n",
       "  </thead>\n",
       "  <tbody>\n",
       "    <tr>\n",
       "      <th>23035</th>\n",
       "      <td>2010-09-06 23:10:00</td>\n",
       "      <td>0</td>\n",
       "    </tr>\n",
       "    <tr>\n",
       "      <th>23036</th>\n",
       "      <td>2010-09-06 23:20:00</td>\n",
       "      <td>0</td>\n",
       "    </tr>\n",
       "    <tr>\n",
       "      <th>23037</th>\n",
       "      <td>2010-09-06 23:30:00</td>\n",
       "      <td>0</td>\n",
       "    </tr>\n",
       "    <tr>\n",
       "      <th>23038</th>\n",
       "      <td>2010-09-06 23:40:00</td>\n",
       "      <td>0</td>\n",
       "    </tr>\n",
       "    <tr>\n",
       "      <th>23039</th>\n",
       "      <td>2010-09-06 23:50:00</td>\n",
       "      <td>0</td>\n",
       "    </tr>\n",
       "  </tbody>\n",
       "</table>\n",
       "</div>"
      ],
      "text/plain": [
       "                 DateTime  DayWeek\n",
       "23035 2010-09-06 23:10:00        0\n",
       "23036 2010-09-06 23:20:00        0\n",
       "23037 2010-09-06 23:30:00        0\n",
       "23038 2010-09-06 23:40:00        0\n",
       "23039 2010-09-06 23:50:00        0"
      ]
     },
     "metadata": {},
     "output_type": "display_data"
    },
    {
     "data": {
      "text/plain": [
       "(23040, 2)"
      ]
     },
     "metadata": {},
     "output_type": "display_data"
    }
   ],
   "source": [
    "#Main 'signature matrix' creation.\n",
    "time_ini = pd.date_range('2010-03-31 00:00:00', periods=23040, freq='10min')\n",
    "#time_fin = pd.date_range('2010-03-31 00:04:59', periods=230396, freq='1min')\n",
    "#df_time_ini = pd.DataFrame({'TimeIni':time_ini})\n",
    "#df_time_fin = pd.DataFrame({'TimeFin':time_fin})\n",
    "df_full = pd.DataFrame({'DateTime':time_ini})\n",
    "#df_full = pd.concat([df_time_ini, df_time_fin], axis=1, sort=False)\n",
    "#df_full = pd.DataFrame({'TimeGap': np.arange(1,230397)},index=time_gap)\n",
    "df_full['DayWeek'] = df_full['DateTime'].dt.dayofweek\n",
    "display(df_full.head(),df_full.tail(),df_full.shape)"
   ]
  },
  {
   "cell_type": "code",
   "execution_count": 35,
   "metadata": {},
   "outputs": [],
   "source": [
    "#Merge function.\n",
    "def merge_df(df_main,df_list):\n",
    "    for df in df_list:\n",
    "        df_main = pd.merge(df_main,df,how='left',on=['DateTime'])\n",
    "    return df_main"
   ]
  },
  {
   "cell_type": "code",
   "execution_count": 36,
   "metadata": {},
   "outputs": [],
   "source": [
    "#Dataframes to merge.\n",
    "df_all = [df_M001,df_M002,df_M003,df_M004,df_M005,df_M006,df_M007,df_M008,df_M009,df_M010,df_M011,df_M012,\n",
    "         df_M013,df_M014,df_M015,df_M016,df_M017,df_M018,df_M019,df_M020,df_M021,df_M022,df_M023,df_M024,\n",
    "         df_M025,df_M026,df_M027,df_M028,df_M029,df_T001,df_T002,df_T003,df_P001,df_D001,df_D002,df_D003]"
   ]
  },
  {
   "cell_type": "code",
   "execution_count": 37,
   "metadata": {},
   "outputs": [
    {
     "name": "stdout",
     "output_type": "stream",
     "text": [
      "CPU times: user 582 ms, sys: 4.07 ms, total: 586 ms\n",
      "Wall time: 585 ms\n"
     ]
    }
   ],
   "source": [
    "%%time\n",
    "#Merge and fill null.\n",
    "df_01 = merge_df(df_full,df_all).fillna(0)"
   ]
  },
  {
   "cell_type": "code",
   "execution_count": 38,
   "metadata": {
    "scrolled": true
   },
   "outputs": [
    {
     "data": {
      "text/plain": [
       "(23040, 38)"
      ]
     },
     "metadata": {},
     "output_type": "display_data"
    },
    {
     "data": {
      "text/html": [
       "<div>\n",
       "<style scoped>\n",
       "    .dataframe tbody tr th:only-of-type {\n",
       "        vertical-align: middle;\n",
       "    }\n",
       "\n",
       "    .dataframe tbody tr th {\n",
       "        vertical-align: top;\n",
       "    }\n",
       "\n",
       "    .dataframe thead th {\n",
       "        text-align: right;\n",
       "    }\n",
       "</style>\n",
       "<table border=\"1\" class=\"dataframe\">\n",
       "  <thead>\n",
       "    <tr style=\"text-align: right;\">\n",
       "      <th></th>\n",
       "      <th>DateTime</th>\n",
       "      <th>DayWeek</th>\n",
       "      <th>M001</th>\n",
       "      <th>M002</th>\n",
       "      <th>M003</th>\n",
       "      <th>M004</th>\n",
       "      <th>M005</th>\n",
       "      <th>M006</th>\n",
       "      <th>M007</th>\n",
       "      <th>M008</th>\n",
       "      <th>...</th>\n",
       "      <th>M027</th>\n",
       "      <th>M028</th>\n",
       "      <th>M029</th>\n",
       "      <th>T001</th>\n",
       "      <th>T002</th>\n",
       "      <th>T003</th>\n",
       "      <th>P001</th>\n",
       "      <th>D001</th>\n",
       "      <th>D002</th>\n",
       "      <th>D003</th>\n",
       "    </tr>\n",
       "  </thead>\n",
       "  <tbody>\n",
       "    <tr>\n",
       "      <th>0</th>\n",
       "      <td>2010-03-31 00:00:00</td>\n",
       "      <td>2</td>\n",
       "      <td>0.0</td>\n",
       "      <td>0.0</td>\n",
       "      <td>0.0</td>\n",
       "      <td>0.0</td>\n",
       "      <td>0.0</td>\n",
       "      <td>0.0</td>\n",
       "      <td>0.0</td>\n",
       "      <td>0.0</td>\n",
       "      <td>...</td>\n",
       "      <td>0.0</td>\n",
       "      <td>0.0</td>\n",
       "      <td>0.0</td>\n",
       "      <td>15.25</td>\n",
       "      <td>0.0</td>\n",
       "      <td>0.0</td>\n",
       "      <td>0.0</td>\n",
       "      <td>0.0</td>\n",
       "      <td>0.0</td>\n",
       "      <td>0.0</td>\n",
       "    </tr>\n",
       "    <tr>\n",
       "      <th>1</th>\n",
       "      <td>2010-03-31 00:10:00</td>\n",
       "      <td>2</td>\n",
       "      <td>0.5</td>\n",
       "      <td>0.0</td>\n",
       "      <td>0.0</td>\n",
       "      <td>0.0</td>\n",
       "      <td>0.0</td>\n",
       "      <td>0.0</td>\n",
       "      <td>0.0</td>\n",
       "      <td>0.0</td>\n",
       "      <td>...</td>\n",
       "      <td>0.0</td>\n",
       "      <td>0.0</td>\n",
       "      <td>0.0</td>\n",
       "      <td>14.50</td>\n",
       "      <td>0.0</td>\n",
       "      <td>0.0</td>\n",
       "      <td>0.0</td>\n",
       "      <td>0.0</td>\n",
       "      <td>0.0</td>\n",
       "      <td>0.0</td>\n",
       "    </tr>\n",
       "    <tr>\n",
       "      <th>2</th>\n",
       "      <td>2010-03-31 00:20:00</td>\n",
       "      <td>2</td>\n",
       "      <td>0.0</td>\n",
       "      <td>0.0</td>\n",
       "      <td>0.0</td>\n",
       "      <td>0.0</td>\n",
       "      <td>0.0</td>\n",
       "      <td>0.0</td>\n",
       "      <td>0.0</td>\n",
       "      <td>0.0</td>\n",
       "      <td>...</td>\n",
       "      <td>0.0</td>\n",
       "      <td>0.0</td>\n",
       "      <td>0.0</td>\n",
       "      <td>0.00</td>\n",
       "      <td>0.0</td>\n",
       "      <td>0.0</td>\n",
       "      <td>0.0</td>\n",
       "      <td>0.0</td>\n",
       "      <td>0.0</td>\n",
       "      <td>0.0</td>\n",
       "    </tr>\n",
       "    <tr>\n",
       "      <th>3</th>\n",
       "      <td>2010-03-31 00:30:00</td>\n",
       "      <td>2</td>\n",
       "      <td>0.0</td>\n",
       "      <td>0.0</td>\n",
       "      <td>0.0</td>\n",
       "      <td>0.0</td>\n",
       "      <td>0.0</td>\n",
       "      <td>0.0</td>\n",
       "      <td>0.0</td>\n",
       "      <td>0.0</td>\n",
       "      <td>...</td>\n",
       "      <td>0.0</td>\n",
       "      <td>0.0</td>\n",
       "      <td>0.0</td>\n",
       "      <td>0.00</td>\n",
       "      <td>0.0</td>\n",
       "      <td>0.0</td>\n",
       "      <td>0.0</td>\n",
       "      <td>0.0</td>\n",
       "      <td>0.0</td>\n",
       "      <td>0.0</td>\n",
       "    </tr>\n",
       "    <tr>\n",
       "      <th>4</th>\n",
       "      <td>2010-03-31 00:40:00</td>\n",
       "      <td>2</td>\n",
       "      <td>0.0</td>\n",
       "      <td>0.0</td>\n",
       "      <td>0.0</td>\n",
       "      <td>0.0</td>\n",
       "      <td>0.0</td>\n",
       "      <td>0.0</td>\n",
       "      <td>0.0</td>\n",
       "      <td>0.0</td>\n",
       "      <td>...</td>\n",
       "      <td>0.0</td>\n",
       "      <td>0.0</td>\n",
       "      <td>0.0</td>\n",
       "      <td>14.00</td>\n",
       "      <td>0.0</td>\n",
       "      <td>0.0</td>\n",
       "      <td>0.0</td>\n",
       "      <td>0.0</td>\n",
       "      <td>0.0</td>\n",
       "      <td>0.0</td>\n",
       "    </tr>\n",
       "  </tbody>\n",
       "</table>\n",
       "<p>5 rows × 38 columns</p>\n",
       "</div>"
      ],
      "text/plain": [
       "             DateTime  DayWeek  M001  M002  M003  M004  M005  M006  M007  \\\n",
       "0 2010-03-31 00:00:00        2   0.0   0.0   0.0   0.0   0.0   0.0   0.0   \n",
       "1 2010-03-31 00:10:00        2   0.5   0.0   0.0   0.0   0.0   0.0   0.0   \n",
       "2 2010-03-31 00:20:00        2   0.0   0.0   0.0   0.0   0.0   0.0   0.0   \n",
       "3 2010-03-31 00:30:00        2   0.0   0.0   0.0   0.0   0.0   0.0   0.0   \n",
       "4 2010-03-31 00:40:00        2   0.0   0.0   0.0   0.0   0.0   0.0   0.0   \n",
       "\n",
       "   M008  ...   M027  M028  M029   T001  T002  T003  P001  D001  D002  D003  \n",
       "0   0.0  ...    0.0   0.0   0.0  15.25   0.0   0.0   0.0   0.0   0.0   0.0  \n",
       "1   0.0  ...    0.0   0.0   0.0  14.50   0.0   0.0   0.0   0.0   0.0   0.0  \n",
       "2   0.0  ...    0.0   0.0   0.0   0.00   0.0   0.0   0.0   0.0   0.0   0.0  \n",
       "3   0.0  ...    0.0   0.0   0.0   0.00   0.0   0.0   0.0   0.0   0.0   0.0  \n",
       "4   0.0  ...    0.0   0.0   0.0  14.00   0.0   0.0   0.0   0.0   0.0   0.0  \n",
       "\n",
       "[5 rows x 38 columns]"
      ]
     },
     "metadata": {},
     "output_type": "display_data"
    }
   ],
   "source": [
    "#Full signature matrix (1/2)\n",
    "display(df_01.shape,df_01.head())"
   ]
  },
  {
   "cell_type": "code",
   "execution_count": 39,
   "metadata": {},
   "outputs": [
    {
     "data": {
      "text/plain": [
       "DateTime    datetime64[ns]\n",
       "DayWeek              int64\n",
       "M001               float64\n",
       "M002               float64\n",
       "M003               float64\n",
       "M004               float64\n",
       "M005               float64\n",
       "M006               float64\n",
       "M007               float64\n",
       "M008               float64\n",
       "M009               float64\n",
       "M010               float64\n",
       "M011               float64\n",
       "M012               float64\n",
       "M013               float64\n",
       "M014               float64\n",
       "M015               float64\n",
       "M016               float64\n",
       "M017               float64\n",
       "M018               float64\n",
       "M019               float64\n",
       "M020               float64\n",
       "M021               float64\n",
       "M022               float64\n",
       "M023               float64\n",
       "M024               float64\n",
       "M025               float64\n",
       "M026               float64\n",
       "M027               float64\n",
       "M028               float64\n",
       "M029               float64\n",
       "T001               float64\n",
       "T002               float64\n",
       "T003               float64\n",
       "P001               float64\n",
       "D001               float64\n",
       "D002               float64\n",
       "D003               float64\n",
       "dtype: object"
      ]
     },
     "metadata": {},
     "output_type": "display_data"
    },
    {
     "data": {
      "text/plain": [
       "Timedelta('159 days 23:50:00')"
      ]
     },
     "metadata": {},
     "output_type": "display_data"
    }
   ],
   "source": [
    "#Full signature matrix (2/2)\n",
    "display(df_01.dtypes,df_01.DateTime.max()-df_01.DateTime.min())"
   ]
  },
  {
   "cell_type": "code",
   "execution_count": 40,
   "metadata": {},
   "outputs": [
    {
     "name": "stdout",
     "output_type": "stream",
     "text": [
      "Percentage of zeros in f is: 82.98394097222223\n"
     ]
    }
   ],
   "source": [
    "cols = df_01.columns\n",
    "counter = 0\n",
    "for col in cols:\n",
    "    for x in df_01[col]:\n",
    "        if x == 0:\n",
    "            counter += 1\n",
    "print('Percentage of zeros in f is: {}'.format((counter/(df_01.shape[0]*df_01.shape[1]))*100))"
   ]
  },
  {
   "cell_type": "code",
   "execution_count": 41,
   "metadata": {},
   "outputs": [],
   "source": [
    "#Data dump\n",
    "df_01.to_csv(r'./output/data_01.csv')"
   ]
  },
  {
   "cell_type": "markdown",
   "metadata": {},
   "source": [
    "## Conclusions\n",
    "\n",
    "Signature matrix characteristics:\n",
    "\n",
    "- 23040 rows and 38 columns.\n",
    "\n",
    "- Only numeric values.\n",
    "\n",
    "- Total time window: 160 days.\n",
    "\n",
    "- 83% of zero values.\n"
   ]
  }
 ],
 "metadata": {
  "kernelspec": {
   "display_name": "Python 3",
   "language": "python",
   "name": "python3"
  },
  "language_info": {
   "codemirror_mode": {
    "name": "ipython",
    "version": 3
   },
   "file_extension": ".py",
   "mimetype": "text/x-python",
   "name": "python",
   "nbconvert_exporter": "python",
   "pygments_lexer": "ipython3",
   "version": "3.6.7"
  }
 },
 "nbformat": 4,
 "nbformat_minor": 2
}
