{
 "cells": [
  {
   "cell_type": "markdown",
   "metadata": {},
   "source": [
    "![Ironhack logo](https://i.imgur.com/1QgrNNw.png)\n",
    "\n",
    "# Toolbox\n",
    "\n",
    "Working environment and code repository for general purpose."
   ]
  },
  {
   "cell_type": "code",
   "execution_count": 1,
   "metadata": {},
   "outputs": [],
   "source": [
    "df_sensors['DayWeek'] = df_sensors['DateTime'].dt.dayofweek"
   ]
  },
  {
   "cell_type": "code",
   "execution_count": null,
   "metadata": {},
   "outputs": [],
   "source": [
    "values = []\n",
    "for e in range(df_P001.shape[0]):\n",
    "    if df_full.TimeIni[0] <= df_P001.DateTime[e] <= df_full.TimeFin[0]:\n",
    "        values.append(df_P001.Measurement[e])\n",
    "    else:\n",
    "        values.append(0)\n",
    "value = sum(values)"
   ]
  },
  {
   "cell_type": "code",
   "execution_count": null,
   "metadata": {},
   "outputs": [],
   "source": [
    "df_P001.shape[0]*df_full.shape[0]"
   ]
  },
  {
   "cell_type": "code",
   "execution_count": null,
   "metadata": {},
   "outputs": [],
   "source": [
    "%%time\n",
    "values = []\n",
    "new_serie = []\n",
    "for i in range(10):\n",
    "    for e in range(df_T001.shape[0]):\n",
    "        if df_full.TimeIni[i] <= df_T001.DateTime[e] <= df_full.TimeFin[i]:\n",
    "            values.append(df_T001.Measurement[e])\n",
    "    value = statistics.mean(values)\n",
    "    print(values)\n",
    "    new_serie.append(value)      "
   ]
  },
  {
   "cell_type": "code",
   "execution_count": null,
   "metadata": {},
   "outputs": [],
   "source": [
    "def serie_sum(dataframe):\n",
    "    values = []\n",
    "    new_serie = []\n",
    "    for i in range(df_full.shape[0]):\n",
    "        for e in range(df_P001.shape[0]):\n",
    "            if df_full.TimeIni[i] <= df_P001.DateTime[e] <= df_full.TimeFin[i]:\n",
    "                values.append(df_P001.Measurement[e])\n",
    "            else:\n",
    "                values.append(0)\n",
    "    value = sum(values)\n",
    "    new_serie.append(value)      \n",
    "    return new_serie"
   ]
  },
  {
   "cell_type": "code",
   "execution_count": null,
   "metadata": {},
   "outputs": [],
   "source": [
    "def serie_mode(dataframe):\n",
    "    values = []\n",
    "    new_serie = []\n",
    "    for i in range(df_full.shape[0]):\n",
    "        for e in range(df_P001.shape[0]):\n",
    "            if df_full.TimeIni[i] <= df_P001.DateTime[e] <= df_full.TimeFin[i]:\n",
    "                values.append(df_P001.Measurement[e])\n",
    "            else:\n",
    "                values.append(0)\n",
    "    value = statistics.mode(values)\n",
    "    new_serie.append(value)      \n",
    "    return new_serie"
   ]
  },
  {
   "cell_type": "code",
   "execution_count": null,
   "metadata": {},
   "outputs": [],
   "source": [
    "df_motion = df_sensors[df_sensors.Sensor.isin(s_motion)]\n",
    "display(df_motion.shape,df_motion.head(),df_motion.Measurement.unique())\n",
    "df_temp = df_sensors[df_sensors.Sensor.isin(s_temp)]\n",
    "display(df_temp.shape,df_temp.head(),df_temp.Measurement.unique())\n",
    "df_doors = df_sensors[df_sensors.Sensor.isin(s_doors)]\n",
    "display(df_doors.shape,df_doors.head(),df_doors.Measurement.unique())\n",
    "df_medicine = df_sensors[df_sensors.Sensor.isin(s_medicine)]\n",
    "display(df_medicine.shape,df_medicine.head(),df_medicine.Measurement.unique())\n",
    "df_power = df_sensors[df_sensors.Sensor.isin(s_power)]\n",
    "display(df_power.shape,df_power.head(),df_power.Measurement.min(),df_power.Measurement.max())"
   ]
  },
  {
   "cell_type": "code",
   "execution_count": null,
   "metadata": {},
   "outputs": [],
   "source": [
    "df_02['Time'] = df_02['DateTime'].dt.time"
   ]
  },
  {
   "cell_type": "code",
   "execution_count": null,
   "metadata": {},
   "outputs": [],
   "source": []
  },
  {
   "cell_type": "code",
   "execution_count": null,
   "metadata": {},
   "outputs": [],
   "source": []
  },
  {
   "cell_type": "code",
   "execution_count": null,
   "metadata": {},
   "outputs": [],
   "source": []
  },
  {
   "cell_type": "code",
   "execution_count": null,
   "metadata": {},
   "outputs": [],
   "source": []
  },
  {
   "cell_type": "code",
   "execution_count": null,
   "metadata": {},
   "outputs": [],
   "source": []
  },
  {
   "cell_type": "code",
   "execution_count": null,
   "metadata": {},
   "outputs": [],
   "source": []
  },
  {
   "cell_type": "code",
   "execution_count": null,
   "metadata": {},
   "outputs": [],
   "source": []
  },
  {
   "cell_type": "code",
   "execution_count": null,
   "metadata": {},
   "outputs": [],
   "source": []
  },
  {
   "cell_type": "code",
   "execution_count": null,
   "metadata": {},
   "outputs": [],
   "source": []
  },
  {
   "cell_type": "code",
   "execution_count": null,
   "metadata": {},
   "outputs": [],
   "source": []
  }
 ],
 "metadata": {
  "kernelspec": {
   "display_name": "Python 3",
   "language": "python",
   "name": "python3"
  },
  "language_info": {
   "codemirror_mode": {
    "name": "ipython",
    "version": 3
   },
   "file_extension": ".py",
   "mimetype": "text/x-python",
   "name": "python",
   "nbconvert_exporter": "python",
   "pygments_lexer": "ipython3",
   "version": "3.6.7"
  }
 },
 "nbformat": 4,
 "nbformat_minor": 2
}
