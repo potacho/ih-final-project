{
 "cells": [
  {
   "cell_type": "markdown",
   "metadata": {},
   "source": [
    "![Ironhack logo](https://i.imgur.com/1QgrNNw.png)\n",
    "\n",
    "### Phase 2: API \n",
    "\n",
    "To get the raw data for the project it...\n",
    "\n",
    "References:\n",
    "\n",
    "[1] https://42matters.com/docs/app-market-data/ios/apps/by_sdk\n",
    "\n",
    "[2] http://docs.python-requests.org/en/master/"
   ]
  },
  {
   "cell_type": "code",
   "execution_count": null,
   "metadata": {},
   "outputs": [],
   "source": [
    "import json\n",
    "import requests\n",
    "import pandas as pd\n",
    "from pandas.io.json import json_normalize\n",
    "from flatten_json import flatten\n",
    "\n",
    "# sudo service mongod start\n",
    "# mongoimport --db sdks --collection backend --file amazon-aws.json\n"
   ]
  },
  {
   "cell_type": "code",
   "execution_count": null,
   "metadata": {},
   "outputs": [],
   "source": [
    "url = 'https://data.42matters.com/api/v2.0/ios/apps/by_sdk.json?\\\n",
    "any_sdks=unity3d\\\n",
    "&limit=50\\\n",
    "&page=1\\\n",
    "&available_in=ES\\\n",
    "&access_token=aedfa1a75017f685e27ba50558357a8c6495a95b'"
   ]
  },
  {
   "cell_type": "code",
   "execution_count": null,
   "metadata": {},
   "outputs": [],
   "source": [
    "sdks_cluster = []\n",
    "for p in range(40):\n",
    "    sdks_json = requests.get('https://data.42matters.com/api/v2.0/ios/apps/by_sdk.json?\\\n",
    "    any_sdks=unity3d\\\n",
    "    &limit=50\\\n",
    "    &page=%s\\\n",
    "    &available_in=ES\\\n",
    "    &access_token=aedfa1a75017f685e27ba50558357a8c6495a95b'%p).json()\n",
    "    sdks_cluster.append(sdks_json)\n",
    "    \n",
    "    \n",
    "#display(sdks_object.status_code,sdks_object.headers['content-type'],sdks_object.encoding,sdks_object)"
   ]
  },
  {
   "cell_type": "code",
   "execution_count": null,
   "metadata": {},
   "outputs": [],
   "source": [
    "sdks_cluster"
   ]
  },
  {
   "cell_type": "code",
   "execution_count": null,
   "metadata": {},
   "outputs": [],
   "source": [
    "with open(\"sdks_cluster2.json\", \"w\") as f:\n",
    "    json.dump(sdks_cluster, f)"
   ]
  },
  {
   "cell_type": "code",
   "execution_count": null,
   "metadata": {},
   "outputs": [],
   "source": [
    "SDK_count = {'All':1218,'AdNetwork':145,'Analytics':71,'Attribution':13,'Backend':5,'CRM':9,\n",
    "             'Commerce':21,'Communication':18,'Data Intelligence':78,'Development Tool':857,\n",
    "             'Game Engine':8,'Marketing Automation':17,'Social':22,'Survey':2\n",
    "            }"
   ]
  },
  {
   "cell_type": "code",
   "execution_count": null,
   "metadata": {},
   "outputs": [],
   "source": [
    "#sdks_json"
   ]
  },
  {
   "cell_type": "code",
   "execution_count": null,
   "metadata": {},
   "outputs": [],
   "source": [
    "dic_flattened = (flatten(d) for d in sdks_json if d==dict)"
   ]
  },
  {
   "cell_type": "code",
   "execution_count": null,
   "metadata": {},
   "outputs": [],
   "source": [
    "df_raw = pd.DataFrame(dic_flattened)\n",
    "display(df_raw.shape,df_raw.head())"
   ]
  },
  {
   "cell_type": "code",
   "execution_count": null,
   "metadata": {},
   "outputs": [],
   "source": [
    "df_raw = pd.DataFrame(sdks_cluster)\n",
    "display(df_raw.shape,df_raw.head())"
   ]
  },
  {
   "cell_type": "code",
   "execution_count": null,
   "metadata": {},
   "outputs": [],
   "source": [
    "df_sdks = pd.DataFrame([df_raw.results[i] for i in range(40)])\n",
    "df_sdks"
   ]
  },
  {
   "cell_type": "code",
   "execution_count": null,
   "metadata": {},
   "outputs": [],
   "source": [
    "df_results = pd.DataFrame([df_raw.results[i] for i in range(50)])"
   ]
  },
  {
   "cell_type": "code",
   "execution_count": null,
   "metadata": {},
   "outputs": [],
   "source": [
    "df_results"
   ]
  },
  {
   "cell_type": "code",
   "execution_count": null,
   "metadata": {},
   "outputs": [],
   "source": [
    "df_results.dtypes"
   ]
  },
  {
   "cell_type": "code",
   "execution_count": null,
   "metadata": {},
   "outputs": [],
   "source": [
    "app_availability,iab,iab_v2,review_analysis"
   ]
  },
  {
   "cell_type": "code",
   "execution_count": null,
   "metadata": {},
   "outputs": [],
   "source": [
    "df_app_availability = pd.DataFrame([df_results.app_availability[i] for i in range(50)])\n",
    "df_app_availability"
   ]
  },
  {
   "cell_type": "code",
   "execution_count": null,
   "metadata": {},
   "outputs": [],
   "source": [
    "df_iab_v2 = pd.DataFrame([df_results.iab_v2[i] for i in range(50)])\n",
    "df_iab_v2"
   ]
  },
  {
   "cell_type": "code",
   "execution_count": null,
   "metadata": {},
   "outputs": [],
   "source": [
    "df_iab_v2_0 = pd.DataFrame([df_iab_v2[0][i] for i in range(50)])\n",
    "df_iab_v2_0"
   ]
  },
  {
   "cell_type": "code",
   "execution_count": null,
   "metadata": {},
   "outputs": [],
   "source": [
    "df_iab_v2_1 = pd.DataFrame([df_iab_v2[1][i] for i in range(50) if df_iab_v2[1][i]!=None])\n",
    "df_iab_v2_1"
   ]
  },
  {
   "cell_type": "code",
   "execution_count": null,
   "metadata": {},
   "outputs": [],
   "source": []
  },
  {
   "cell_type": "code",
   "execution_count": null,
   "metadata": {},
   "outputs": [],
   "source": []
  }
 ],
 "metadata": {
  "kernelspec": {
   "display_name": "Python 3",
   "language": "python",
   "name": "python3"
  },
  "language_info": {
   "codemirror_mode": {
    "name": "ipython",
    "version": 3
   },
   "file_extension": ".py",
   "mimetype": "text/x-python",
   "name": "python",
   "nbconvert_exporter": "python",
   "pygments_lexer": "ipython3",
   "version": "3.6.7"
  }
 },
 "nbformat": 4,
 "nbformat_minor": 2
}
