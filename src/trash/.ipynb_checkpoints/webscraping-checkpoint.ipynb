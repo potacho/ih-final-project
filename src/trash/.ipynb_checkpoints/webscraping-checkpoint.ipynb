{
 "cells": [
  {
   "cell_type": "markdown",
   "metadata": {},
   "source": [
    "![Ironhack logo](https://i.imgur.com/1QgrNNw.png)\n",
    "\n",
    "### Phase 1: Web Scraping with Selenium\n",
    "\n",
    "To retrieve the information from the API, it is necesary to get the IDs from the supported SDKs listed in the API's website. The information is included within a 'react text' element, therefore the most suitable way to get the data was using the Python library Selenium. Selenium Python bindings provides a simple API to write functional/acceptance tests using Selenium WebDriver. Selenium Python bindings provide a convenient API to access Selenium WebDrivers like Firefox, Ie, Chrome, Remote etc. The current supported Python versions are 2.7, 3.5 and above.\n",
    "\n",
    "References:\n",
    "\n",
    "[1] https://selenium-python.readthedocs.io/locating-elements.html\n",
    "\n",
    "[2] https://medium.com/the-andela-way/introduction-to-web-scraping-using-selenium-7ec377a8cf72"
   ]
  },
  {
   "cell_type": "code",
   "execution_count": null,
   "metadata": {},
   "outputs": [],
   "source": [
    "'''\n",
    "Before starting, it is necesary to add to PATH the path location where the 'geckodriver.exe' is saved. The\n",
    "used in this project is the temporary add of the executable using: $ export PATH=$PATH:/home/potacho/apps/\n",
    "It is possible to check the result using: $ cho $PATH\n",
    "'''\n",
    "#First step: 'webdriver' creation.\n",
    "from selenium import webdriver\n",
    "browser = webdriver.Firefox()\n",
    "browser.implicitly_wait(10)\n",
    "browser.get('https://42matters.com/docs/app-market-data/supported-sdks')"
   ]
  },
  {
   "cell_type": "code",
   "execution_count": null,
   "metadata": {},
   "outputs": [],
   "source": [
    "'''\n",
    "The website uses different visualization layers within the same url using 'react text'. With the method \n",
    "proposed, we can retrieve the elements that are showing at the moment this piece of code is running.\n",
    "Therefore, a print line is included to check if the total amount of elements is correct. Also we store the\n",
    "'total' variable for further steps.\n",
    "'''\n",
    "#Second step: calculation of total number of sdks elements by category. \n",
    "total_element = browser.find_elements_by_xpath('//*[@id=\"sdk-doc-app\"]/div/div/div/div[1]')\n",
    "total_string = [x.text for x in total_element][0]\n",
    "total = [int(s) for s in total_string.split() if s.isdigit()][0]\n",
    "print('Total amount of sdks to scrap: {}'.format(total))"
   ]
  },
  {
   "cell_type": "code",
   "execution_count": null,
   "metadata": {},
   "outputs": [],
   "source": [
    "def get_sdks_elements(t):\n",
    "    sdks_elements = []\n",
    "    for n in range(1,t+1):\n",
    "        sdk = browser.find_elements_by_xpath('//*[@id=\"sdk-doc-app\"]/div/div/div/div[2]/div/div[%s]'%n)\n",
    "        sdks_elements.append(sdk)\n",
    "    return sdks_elements"
   ]
  },
  {
   "cell_type": "code",
   "execution_count": null,
   "metadata": {
    "scrolled": true
   },
   "outputs": [],
   "source": [
    "elements = get_sdks_elements(total)\n",
    "print('Total sdks elements scraped: {}'.format(len(get_sdks_elements(total))))"
   ]
  },
  {
   "cell_type": "code",
   "execution_count": null,
   "metadata": {},
   "outputs": [],
   "source": [
    "sdks_list = []\n",
    "for element in range(total):\n",
    "    sdks_list.append([x.text.replace('\\nID: ',',').replace('\\n',',') for x in elements[element]])\n",
    "\n",
    "#print(\"sdks:\")\n",
    "#print(sdks,'\\n')\n",
    "sdks = [item for sublist in sdks_list for item in sublist]"
   ]
  },
  {
   "cell_type": "code",
   "execution_count": null,
   "metadata": {
    "scrolled": true
   },
   "outputs": [],
   "source": [
    "sdks[0]"
   ]
  },
  {
   "cell_type": "code",
   "execution_count": null,
   "metadata": {},
   "outputs": [],
   "source": [
    "#Function: .csv file generator. Arg1: list of sdks strings. Arg2: .csv file name. \n",
    "def write_to_csv(list_of_sdks,file_name):\n",
    "    import sys \n",
    "    import os\n",
    "    import csv\n",
    "    with open(file_name, 'w') as csvfile:\n",
    "        writer = csv.writer(csvfile, delimiter='\\n')\n",
    "        writer.writerow(list_of_sdks)"
   ]
  },
  {
   "cell_type": "code",
   "execution_count": null,
   "metadata": {},
   "outputs": [],
   "source": [
    "write_to_csv(sdks,'development_tool.csv')"
   ]
  },
  {
   "cell_type": "code",
   "execution_count": 2,
   "metadata": {},
   "outputs": [],
   "source": [
    "def sdks_to_pandas(csv_file):\n",
    "    import pandas as pd\n",
    "    cols = ['sdk_name','sdk_id','sdk_cat1','sdk_cat2']\n",
    "    dataframe = pd.read_csv(csv_file, sep=',', header=None, index_col=False, names = cols)\n",
    "    return dataframe"
   ]
  },
  {
   "cell_type": "code",
   "execution_count": 3,
   "metadata": {},
   "outputs": [
    {
     "data": {
      "text/plain": [
       "'Dataframe correctly generated'"
      ]
     },
     "metadata": {},
     "output_type": "display_data"
    },
    {
     "data": {
      "text/plain": [
       "'Dataframe shape: (5, 4)'"
      ]
     },
     "metadata": {},
     "output_type": "display_data"
    },
    {
     "data": {
      "text/html": [
       "<div>\n",
       "<style scoped>\n",
       "    .dataframe tbody tr th:only-of-type {\n",
       "        vertical-align: middle;\n",
       "    }\n",
       "\n",
       "    .dataframe tbody tr th {\n",
       "        vertical-align: top;\n",
       "    }\n",
       "\n",
       "    .dataframe thead th {\n",
       "        text-align: right;\n",
       "    }\n",
       "</style>\n",
       "<table border=\"1\" class=\"dataframe\">\n",
       "  <thead>\n",
       "    <tr style=\"text-align: right;\">\n",
       "      <th></th>\n",
       "      <th>sdk_name</th>\n",
       "      <th>sdk_id</th>\n",
       "      <th>sdk_cat1</th>\n",
       "      <th>sdk_cat2</th>\n",
       "    </tr>\n",
       "  </thead>\n",
       "  <tbody>\n",
       "    <tr>\n",
       "      <th>0</th>\n",
       "      <td>Amazon AWS</td>\n",
       "      <td>amazon-aws</td>\n",
       "      <td>Backend</td>\n",
       "      <td>NaN</td>\n",
       "    </tr>\n",
       "    <tr>\n",
       "      <th>1</th>\n",
       "      <td>Firebase</td>\n",
       "      <td>firebase</td>\n",
       "      <td>Backend</td>\n",
       "      <td>Development Tool</td>\n",
       "    </tr>\n",
       "    <tr>\n",
       "      <th>2</th>\n",
       "      <td>Parse</td>\n",
       "      <td>parse</td>\n",
       "      <td>Backend</td>\n",
       "      <td>Development Tool</td>\n",
       "    </tr>\n",
       "    <tr>\n",
       "      <th>3</th>\n",
       "      <td>Particle SDK</td>\n",
       "      <td>particle-sdk</td>\n",
       "      <td>Backend</td>\n",
       "      <td>NaN</td>\n",
       "    </tr>\n",
       "    <tr>\n",
       "      <th>4</th>\n",
       "      <td>WNS SDK</td>\n",
       "      <td>wns-sdk</td>\n",
       "      <td>Backend</td>\n",
       "      <td>Development Tool</td>\n",
       "    </tr>\n",
       "  </tbody>\n",
       "</table>\n",
       "</div>"
      ],
      "text/plain": [
       "       sdk_name        sdk_id sdk_cat1          sdk_cat2\n",
       "0    Amazon AWS    amazon-aws  Backend               NaN\n",
       "1      Firebase      firebase  Backend  Development Tool\n",
       "2         Parse         parse  Backend  Development Tool\n",
       "3  Particle SDK  particle-sdk  Backend               NaN\n",
       "4       WNS SDK       wns-sdk  Backend  Development Tool"
      ]
     },
     "metadata": {},
     "output_type": "display_data"
    }
   ],
   "source": [
    "df_backend = sdks_to_pandas('backend.csv')\n",
    "display('Dataframe correctly generated')\n",
    "display('Dataframe shape: {}'.format(df_backend.shape),df_backend.head())"
   ]
  },
  {
   "cell_type": "code",
   "execution_count": 5,
   "metadata": {},
   "outputs": [
    {
     "data": {
      "text/plain": [
       "'amazon-aws,firebase,parse,particle-sdk,wns-sdk'"
      ]
     },
     "execution_count": 5,
     "metadata": {},
     "output_type": "execute_result"
    }
   ],
   "source": [
    "sdks_list = list(df_backend.sdk_id)\n",
    "sdks_url = \",\".join(sdks_list)\n",
    "sdks_url"
   ]
  },
  {
   "cell_type": "code",
   "execution_count": null,
   "metadata": {},
   "outputs": [],
   "source": [
    "#sdks_elements = browser\\\n",
    "#.find_elements_by_xpath(\"//div[@class='sdk-list__grid__tile__title']\")\n",
    "sdks = browser.find_elements_by_xpath('//*[@id=\"sdk-doc-app\"]/div/div/div/div[2]/div/div[1]/p')\n",
    "\n",
    "#sdks_elements = browser.find_element_by_tag_name('p')\n",
    "#sdks_elements = browser.find_elements_by_css_selector(\"<!-- react-text: 671 -->\")\n",
    "\n",
    "#sdks_elements = [item for sublist in sdks for item in sublist]\n",
    "#sdks_elements\n",
    "#//*[@id=\"sdk-doc-app\"]/div/div/div/div[2]/div/div[1]/p/text()"
   ]
  }
 ],
 "metadata": {
  "kernelspec": {
   "display_name": "Python 3",
   "language": "python",
   "name": "python3"
  },
  "language_info": {
   "codemirror_mode": {
    "name": "ipython",
    "version": 3
   },
   "file_extension": ".py",
   "mimetype": "text/x-python",
   "name": "python",
   "nbconvert_exporter": "python",
   "pygments_lexer": "ipython3",
   "version": "3.6.7"
  }
 },
 "nbformat": 4,
 "nbformat_minor": 2
}
